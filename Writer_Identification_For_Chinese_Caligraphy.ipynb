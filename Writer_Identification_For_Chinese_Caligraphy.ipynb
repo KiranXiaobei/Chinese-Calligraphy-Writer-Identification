{
  "nbformat": 4,
  "nbformat_minor": 0,
  "metadata": {
    "colab": {
      "name": "Writer Identification For Chinese Caligraphy.ipynb",
      "provenance": [],
      "collapsed_sections": []
    },
    "kernelspec": {
      "name": "python3",
      "display_name": "Python 3"
    },
    "language_info": {
      "name": "python"
    },
    "accelerator": "GPU",
    "gpuClass": "standard"
  },
  "cells": [
    {
      "cell_type": "code",
      "execution_count": null,
      "metadata": {
        "id": "CkwqTsTB228w"
      },
      "outputs": [],
      "source": [
        "!cd /content/drive/MyDrive"
      ]
    },
    {
      "cell_type": "code",
      "source": [
        "! pip install -q kaggle # Installing liberary for Kaggle"
      ],
      "metadata": {
        "id": "yIHKbUWD-Tt6"
      },
      "execution_count": null,
      "outputs": []
    },
    {
      "cell_type": "code",
      "source": [
        "from google.colab import files\n",
        "\n",
        "files.upload()\n",
        "#Importing kaggle account profile"
      ],
      "metadata": {
        "id": "PiziWAFA-WVZ"
      },
      "execution_count": null,
      "outputs": []
    },
    {
      "cell_type": "code",
      "source": [
        "!kaggle datasets download -d andradaolteanu/gtzan-dataset-music-genre-classification  # Downloading Kaggle Dataset directly"
      ],
      "metadata": {
        "id": "jIIGsD9F-W_E"
      },
      "execution_count": null,
      "outputs": []
    },
    {
      "cell_type": "code",
      "source": [
        "data='/content/drive/MyDrive/chinese-calligraphy-styles-by-calligraphers.zip'"
      ],
      "metadata": {
        "id": "97PtC6gj-YtP"
      },
      "execution_count": null,
      "outputs": []
    },
    {
      "cell_type": "code",
      "source": [
        "cd /content/drive/MyDrive/Chinese data"
      ],
      "metadata": {
        "id": "VLej4BiY-cuV"
      },
      "execution_count": null,
      "outputs": []
    },
    {
      "cell_type": "code",
      "source": [
        "import zipfile\n",
        "from google.colab import drive\n",
        "zip_ref = zipfile.ZipFile(data, 'r')\n",
        "zip_ref.extractall(\"/content/drive/MyDrive/Chinese data\")\n",
        "zip_ref.close()\n",
        "# Extracting the zip file"
      ],
      "metadata": {
        "id": "YSliT_jv-2G0"
      },
      "execution_count": null,
      "outputs": []
    },
    {
      "cell_type": "code",
      "source": [
        "from fastai import *\n",
        "from fastai.vision.all import *\n",
        "# Importing Liberaries"
      ],
      "metadata": {
        "id": "x7bPLXdL_K-y"
      },
      "execution_count": null,
      "outputs": []
    },
    {
      "cell_type": "code",
      "source": [
        "import os"
      ],
      "metadata": {
        "id": "VwnnnbKq_N1y"
      },
      "execution_count": null,
      "outputs": []
    },
    {
      "cell_type": "code",
      "source": [
        "dir=r'/content/drive/MyDrive/Chinese data/data/data'"
      ],
      "metadata": {
        "id": "ikOqhNtH_PSG"
      },
      "execution_count": null,
      "outputs": []
    },
    {
      "cell_type": "code",
      "source": [
        "import pandas as pd\n",
        "df=pd.read_csv('content/drive/MyDrive/Chinese data/data/data/lables.csv')\n",
        "df.head(25)\n",
        "# Loading CSV file"
      ],
      "metadata": {
        "id": "jCtLQvd1_RXJ"
      },
      "execution_count": null,
      "outputs": []
    },
    {
      "cell_type": "code",
      "source": [
        "df['Calligrapher Name']"
      ],
      "metadata": {
        "id": "5GHAcjDC_UiD"
      },
      "execution_count": null,
      "outputs": []
    },
    {
      "cell_type": "code",
      "source": [
        "labels = 'content/drive/MyDrive/Chinese data/data/data/lables.csv'"
      ],
      "metadata": {
        "id": "1SQ4GFLHAv09"
      },
      "execution_count": null,
      "outputs": []
    },
    {
      "cell_type": "code",
      "source": [
        "dls=ImageDataLoaders.from_csv(dir,\n",
        "                              labels,\n",
        "                              train='train',\n",
        "                              valid='test',\n",
        "                              bs=64,\n",
        "                              \n",
        "                              item_tfms=Resize(64),\n",
        "                              shuffle=True)\n",
        "# Creating Data Loaders"
      ],
      "metadata": {
        "id": "DUPq5pzG_VHe"
      },
      "execution_count": null,
      "outputs": []
    },
    {
      "cell_type": "code",
      "source": [
        "dls.show_batch(max_n=20)\n",
        "# Display Images in batch "
      ],
      "metadata": {
        "id": "pqhBCEFA_7bv"
      },
      "execution_count": null,
      "outputs": []
    },
    {
      "cell_type": "code",
      "source": [
        "learner=cnn_learner(dls, models.resnet50, metrics=[accuracy, Precision(average='weighted'), Recall(average='weighted'), rror_rate])\n",
        "# Old code"
      ],
      "metadata": {
        "id": "PcNLxwsCBzpS"
      },
      "execution_count": null,
      "outputs": []
    },
    {
      "cell_type": "code",
      "source": [
        "#Updated code\n",
        "learner=vision_learner(dls11, models.resnet50, normalize=True, metrics=[accuracy, Precision(average='weighted'), Recall(average='weighted'), error_rate])"
      ],
      "metadata": {
        "id": "WJC3gnYvCCae"
      },
      "execution_count": null,
      "outputs": []
    },
    {
      "cell_type": "code",
      "source": [
        "learner.fit_one_cycle(14)"
      ],
      "metadata": {
        "id": "zIMgj5VlEdXD"
      },
      "execution_count": null,
      "outputs": []
    },
    {
      "cell_type": "code",
      "source": [
        "learner.finetune(5)\n",
        "# Fine tuning "
      ],
      "metadata": {
        "id": "tmlzaZ2DFDV-"
      },
      "execution_count": null,
      "outputs": []
    },
    {
      "cell_type": "code",
      "source": [
        "Valley = learner.lr_find()"
      ],
      "metadata": {
        "id": "pWRlqCTgE4_D"
      },
      "execution_count": null,
      "outputs": []
    },
    {
      "cell_type": "code",
      "source": [
        "learner.fit_one_cycle(50, max_lr=Valley)\n",
        "# Applying custom LR "
      ],
      "metadata": {
        "id": "MoNt5gFZE-kB"
      },
      "execution_count": null,
      "outputs": []
    },
    {
      "cell_type": "code",
      "source": [
        "interp = ClassificationInterpretation.from_learner(learner)\n",
        "interp.plot_top_losses(12, figsize=(16, 10))\n",
        "# Plotting Top Loss"
      ],
      "metadata": {
        "id": "_a0A8VbTFzwa"
      },
      "execution_count": null,
      "outputs": []
    },
    {
      "cell_type": "code",
      "source": [
        "import plotly.express as px"
      ],
      "metadata": {
        "id": "lie7VCw0F8wc"
      },
      "execution_count": null,
      "outputs": []
    },
    {
      "cell_type": "code",
      "source": [
        "df = learner.metrics[]\n",
        "fig = px.line(df, x=x1, y=df.columns[1:7],width=800, height=600,\n",
        "              labels={\n",
        "                     \"Epoch\": \"Number of Epochs\",\n",
        "                     \"value\": \"Values\",\n",
        "                     \"variable\": \"Metrics\"},\n",
        "              title='Metrics Line Chart')\n",
        "\n",
        "fig.update_layout(\n",
        "    legend=dict(\n",
        "        x=0.8,\n",
        "        y=.9,\n",
        "        traceorder=\"normal\",\n",
        "        font=dict(\n",
        "            family=\"sans-serif\",\n",
        "            size=14,\n",
        "            color=\"black\"\n",
        "        ),\n",
        "    )\n",
        ")\n",
        "\n",
        "fig.show()\n",
        "fig.write_image(\"fig1.png\")\n",
        "# Displaying the Line chart for All metrics"
      ],
      "metadata": {
        "id": "beQ-tmv5I_Tx"
      },
      "execution_count": null,
      "outputs": []
    },
    {
      "cell_type": "code",
      "source": [
        "learn.save(\"/content/Chinese data/data/data/Model 06-06-2022/chinese_chracter.pth\")"
      ],
      "metadata": {
        "id": "TGYDsloBJOlX"
      },
      "execution_count": null,
      "outputs": []
    },
    {
      "cell_type": "code",
      "source": [
        ""
      ],
      "metadata": {
        "id": "c_4yl4XwP1wr"
      },
      "execution_count": null,
      "outputs": []
    },
    {
      "cell_type": "markdown",
      "source": [
        "**VGG 19 Implementation**"
      ],
      "metadata": {
        "id": "UPm8mB2uTRol"
      }
    },
    {
      "cell_type": "code",
      "source": [
        "dls_vgg=ImageDataLoaders.from_csv(dir,\n",
        "                              labels,\n",
        "                              train='train',\n",
        "                              valid='test',\n",
        "                              bs=64,\n",
        "                              \n",
        "                              item_tfms=Resize(64),\n",
        "                              shuffle=True)"
      ],
      "metadata": {
        "id": "7iuzM-YqQCKD"
      },
      "execution_count": null,
      "outputs": []
    },
    {
      "cell_type": "code",
      "source": [
        "learnerVgg = vision_learner(dls_vgg, models.Vgg19_bn, metrics=[accuracy, Precision(average='weighted'), Recall(average='weighted'), rror_rate])"
      ],
      "metadata": {
        "id": "3J7nRYOSQCSt"
      },
      "execution_count": null,
      "outputs": []
    },
    {
      "cell_type": "code",
      "source": [
        "learnerVgg.finetune(5)"
      ],
      "metadata": {
        "id": "JYK5etVpRYpZ"
      },
      "execution_count": null,
      "outputs": []
    },
    {
      "cell_type": "code",
      "source": [
        "ValleyVgg = learner.lr_find()"
      ],
      "metadata": {
        "id": "ZT7UWWtjRcO1"
      },
      "execution_count": null,
      "outputs": []
    },
    {
      "cell_type": "code",
      "source": [
        "learnerVgg.fit_one_cycle(50, max_lr=ValleyVgg)"
      ],
      "metadata": {
        "id": "QqXQ-mcKRcah"
      },
      "execution_count": null,
      "outputs": []
    },
    {
      "cell_type": "code",
      "source": [
        "interp = ClassificationInterpretation.from_learner(learnerVgg)\n",
        "interp.plot_top_losses(12, figsize=(16, 10))"
      ],
      "metadata": {
        "id": "4aAxVv3oRcfR"
      },
      "execution_count": null,
      "outputs": []
    },
    {
      "cell_type": "code",
      "source": [
        "learn.save(\"/content/Chinese data/data/data/Model 06-06-2022/chinese_chracterVgg.pth\")"
      ],
      "metadata": {
        "id": "mEh6IqoDRcj6"
      },
      "execution_count": null,
      "outputs": []
    },
    {
      "cell_type": "markdown",
      "source": [
        "**InceptionV3 Implementation**"
      ],
      "metadata": {
        "id": "vSq7XWA7TdQZ"
      }
    },
    {
      "cell_type": "code",
      "source": [
        "dlsInception=ImageDataLoaders.from_csv(dir,\n",
        "                                        labels,\n",
        "                                        train='train',\n",
        "                                        valid='test',\n",
        "                                        bs=64,\n",
        "                                        \n",
        "                                        item_tfms=Resize(64),\n",
        "                                        shuffle=True)"
      ],
      "metadata": {
        "id": "egEKYrXaR3iz"
      },
      "execution_count": null,
      "outputs": []
    },
    {
      "cell_type": "code",
      "source": [
        "learnerInception = vision_learner(dlsInception, models.InceptionV3, metrics=[accuracy, Precision(average='weighted'), Recall(average='weighted'), rror_rate])"
      ],
      "metadata": {
        "id": "lM-FKxmkSIy-"
      },
      "execution_count": null,
      "outputs": []
    },
    {
      "cell_type": "code",
      "source": [
        "learnerInception.finetune(5)"
      ],
      "metadata": {
        "id": "MqMvvWYzSQWp"
      },
      "execution_count": null,
      "outputs": []
    },
    {
      "cell_type": "code",
      "source": [
        "ValleyInception = learner.lr_find()"
      ],
      "metadata": {
        "id": "xUO2xrDnSnxA"
      },
      "execution_count": null,
      "outputs": []
    },
    {
      "cell_type": "code",
      "source": [
        "ValleyInception.fit_one_cycle(50, max_lr=ValleyInception)"
      ],
      "metadata": {
        "id": "5UzKzN3GSn56"
      },
      "execution_count": null,
      "outputs": []
    },
    {
      "cell_type": "code",
      "source": [
        "interp = ClassificationInterpretation.from_learner(learnerInception)\n",
        "interp.plot_top_losses(12, figsize=(16, 10))"
      ],
      "metadata": {
        "id": "ueJ0_0lSSoCs"
      },
      "execution_count": null,
      "outputs": []
    },
    {
      "cell_type": "code",
      "source": [
        "learn.save(\"/content/Chinese data/data/data/Model 06-06-2022/chinese_chracterInception.pth\")"
      ],
      "metadata": {
        "id": "aaY7zQAcS6QL"
      },
      "execution_count": null,
      "outputs": []
    }
  ]
}